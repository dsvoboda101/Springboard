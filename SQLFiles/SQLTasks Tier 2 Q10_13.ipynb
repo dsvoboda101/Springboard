{
 "cells": [
  {
   "cell_type": "code",
   "execution_count": null,
   "id": "947eb52c",
   "metadata": {},
   "outputs": [],
   "source": [
    "%pip install ipython-sql\n",
    "%load_ext sql"
   ]
  },
  {
   "cell_type": "code",
   "execution_count": 3,
   "id": "8a9e9d13",
   "metadata": {},
   "outputs": [],
   "source": [
    "import sqlite3\n",
    "import pandas as pd"
   ]
  },
  {
   "cell_type": "markdown",
   "id": "aed9755a",
   "metadata": {},
   "source": [
    "Q10: Produce a list of facilities with a total revenue less than 1000. The output of facility name and total revenue, sorted by revenue. Remember that there's a different cost for guests and members! "
   ]
  },
  {
   "cell_type": "markdown",
   "id": "2b35eec6",
   "metadata": {},
   "source": [
    "Step#1  Determine the number of member and guest bookings fr each facilityand put it into a data frame."
   ]
  },
  {
   "cell_type": "code",
   "execution_count": 18,
   "id": "ffc5bd43",
   "metadata": {},
   "outputs": [
    {
     "name": "stdout",
     "output_type": "stream",
     "text": [
      "    facility_id  booking_count  total_slots patron_type\n",
      "0             0            100          363       Guest\n",
      "1             0            308          957      Member\n",
      "2             1            113          396       Guest\n",
      "3             1            276          882      Member\n",
      "4             2             39          123       Guest\n",
      "5             2            344         1086      Member\n",
      "6             3             18           36       Guest\n",
      "7             3            385          794      Member\n",
      "8             4            208          520       Guest\n",
      "9             4            421          884      Member\n",
      "10            5             84          174       Guest\n",
      "11            5             27           54      Member\n",
      "12            6            245          686       Guest\n",
      "13            6            195          418      Member\n",
      "14            7             23           48       Guest\n",
      "15            7            421          860      Member\n",
      "16            8             53           54       Guest\n",
      "17            8            783          856      Member\n"
     ]
    }
   ],
   "source": [
    "conn = sqlite3.connect(r\"C:\\Users\\Ujval\\OneDrive\\Documents\\GitHub\\Springboard\\SQLFiles Tier 2\\sqlite_db_pythonsqlite.db\")\n",
    "cur = conn.cursor()\n",
    "cur.execute(\"\"\"SELECT facid, COUNT(bookid) AS count, SUM(slots) AS total,\n",
    "    CASE\n",
    "        WHEN memid = 0 THEN 'Guest'\n",
    "        WHEN memid <> 0 THEN 'Member'\n",
    "        END AS patron\n",
    "   FROM Bookings\n",
    "   GROUP BY facid, patron;\"\"\")\n",
    "rows = cur.fetchall()\n",
    "conn.close()\n",
    "df = pd.DataFrame(rows)\n",
    "df.columns = ['facility_id', 'booking_count', 'total_slots', 'patron_type']\n",
    "print(df)"
   ]
  },
  {
   "cell_type": "markdown",
   "id": "9b1edc84",
   "metadata": {},
   "source": [
    "Step#2 Collect the prices for the different facilities in another data frame"
   ]
  },
  {
   "cell_type": "code",
   "execution_count": 22,
   "id": "f006df73",
   "metadata": {},
   "outputs": [
    {
     "name": "stdout",
     "output_type": "stream",
     "text": [
      "   facility_id    facility_name  Member  Guest\n",
      "0            0   Tennis Court 1     5.0   25.0\n",
      "1            1   Tennis Court 2     5.0   25.0\n",
      "2            2  Badminton Court     0.0   15.5\n",
      "3            3     Table Tennis     0.0    5.0\n",
      "4            4   Massage Room 1     9.9   80.0\n",
      "5            5   Massage Room 2     9.9   80.0\n",
      "6            6     Squash Court     3.5   17.5\n",
      "7            7    Snooker Table     0.0    5.0\n",
      "8            8       Pool Table     0.0    5.0\n"
     ]
    }
   ],
   "source": [
    "conn = sqlite3.connect(r\"C:\\Users\\Ujval\\OneDrive\\Documents\\GitHub\\Springboard\\SQLFiles Tier 2\\sqlite_db_pythonsqlite.db\")\n",
    "cur = conn.cursor()\n",
    "cur.execute(\"\"\"SELECT facid, name, membercost, guestcost\n",
    "FROM Facilities;\"\"\")\n",
    "rows = cur.fetchall()\n",
    "conn.close()\n",
    "prices = pd.DataFrame(rows)\n",
    "prices.columns = ['facility_id', 'facility_name', 'Member', 'Guest']\n",
    "print(prices)"
   ]
  },
  {
   "cell_type": "markdown",
   "id": "a5f6aa98",
   "metadata": {},
   "source": [
    "Step#3 Add revenue column to df"
   ]
  },
  {
   "cell_type": "code",
   "execution_count": 19,
   "id": "029f96c9",
   "metadata": {},
   "outputs": [
    {
     "name": "stdout",
     "output_type": "stream",
     "text": [
      "    facility_id  booking_count  total_slots patron_type  cost    revenue\n",
      "0             0            100          363       Guest  25.0   907500.0\n",
      "1             0            308          957      Member   5.0  1473780.0\n",
      "2             1            113          396       Guest  25.0  1118700.0\n",
      "3             1            276          882      Member   5.0  1217160.0\n",
      "4             2             39          123       Guest  15.5    74353.5\n",
      "5             2            344         1086      Member   0.0        0.0\n",
      "6             3             18           36       Guest   5.0     3240.0\n",
      "7             3            385          794      Member   0.0        0.0\n",
      "8             4            208          520       Guest  80.0  8652800.0\n",
      "9             4            421          884      Member   9.9  3684423.6\n",
      "10            5             84          174       Guest  80.0  1169280.0\n",
      "11            5             27           54      Member   9.9    14434.2\n",
      "12            6            245          686       Guest  17.5  2941225.0\n",
      "13            6            195          418      Member   3.5   285285.0\n",
      "14            7             23           48       Guest   5.0     5520.0\n",
      "15            7            421          860      Member   0.0        0.0\n",
      "16            8             53           54       Guest   5.0    14310.0\n",
      "17            8            783          856      Member   0.0        0.0\n"
     ]
    }
   ],
   "source": [
    "lookup = prices.set_index(\"facility_id\").to_dict()\n",
    "df['cost'] = df.apply(lambda x: lookup[x['patron_type']][x['facility_id']], axis=1)\n",
    "df['revenue'] = df['cost'] *df['booking_count']*df['total_slots']\n",
    "print(df)"
   ]
  },
  {
   "cell_type": "markdown",
   "id": "5c71d4f1",
   "metadata": {},
   "source": [
    "Step#4 Group by facility_id and sort by revenue and remove extra rows and columns."
   ]
  },
  {
   "cell_type": "code",
   "execution_count": 56,
   "id": "1bd33cfd",
   "metadata": {},
   "outputs": [
    {
     "name": "stdout",
     "output_type": "stream",
     "text": [
      "     facility_name     revenue\n",
      "1   Massage Room 1  12337223.6\n",
      "2     Squash Court   3226510.0\n",
      "3   Tennis Court 1   2381280.0\n",
      "4   Tennis Court 2   2335860.0\n",
      "5   Massage Room 2   1183714.2\n",
      "6  Badminton Court     74353.5\n",
      "7       Pool Table     14310.0\n",
      "8    Snooker Table      5520.0\n",
      "9     Table Tennis      3240.0\n"
     ]
    }
   ],
   "source": [
    "df_group = df.groupby('facility_id')['revenue'].sum()\n",
    "prices['revenue'] = df_group\n",
    "prices.sort_values('revenue', ascending=False, inplace=True)\n",
    "prices_short = prices[['facility_name', 'revenue']]\n",
    "prices_short = prices_short[prices_short['revenue'] > 1000]\n",
    "prices_short.index = range(1, len(prices_short) + 1)\n",
    "print(prices_short)\n"
   ]
  },
  {
   "cell_type": "markdown",
   "id": "ea68e6e9",
   "metadata": {},
   "source": [
    "The final result for Q10 gives a data frame with the facility name and corresponding revenue, sorted by descending revenue."
   ]
  },
  {
   "cell_type": "markdown",
   "id": "3bbf36bd",
   "metadata": {},
   "source": [
    "Q11: Produce a report of members and who recommended them in alphabetic surname,firstname order."
   ]
  },
  {
   "cell_type": "markdown",
   "id": "84ec509b",
   "metadata": {},
   "source": [
    "Step#1: As the question does not specify, I will order this by the surname, firstname of the member, not the recommender.  I will also put the name of the recommender as one column (firstname surname).  The first step is to query the relevant information from Members."
   ]
  },
  {
   "cell_type": "code",
   "execution_count": 106,
   "id": "dd609021",
   "metadata": {},
   "outputs": [
    {
     "name": "stdout",
     "output_type": "stream",
     "text": [
      "    memid            surname  firstname rec_by\n",
      "0      15              Bader   Florence      9\n",
      "1      12              Baker       Anne      9\n",
      "2      16              Baker    Timothy     13\n",
      "3       8             Boothe        Tim      3\n",
      "4       5            Butters     Gerald      1\n",
      "5      22             Coplin       Joan     16\n",
      "6      36            Crumpet      Erica      2\n",
      "7       7               Dare      Nancy      4\n",
      "8      28            Farrell      David       \n",
      "9      13            Farrell     Jemima       \n",
      "10      0              GUEST      GUEST       \n",
      "11     20            Genting    Matthew      5\n",
      "12     35               Hunt       John     30\n",
      "13     11              Jones      David      4\n",
      "14     26              Jones    Douglas     11\n",
      "15      4           Joplette     Janice      1\n",
      "16     21          Mackenzie       Anna      1\n",
      "17     10               Owen    Charles      1\n",
      "18     17             Pinker      David     13\n",
      "19     30            Purview  Millicent      2\n",
      "20      3             Rownam        Tim       \n",
      "21     27             Rumney  Henrietta     20\n",
      "22     24             Sarwin  Ramnaresh     15\n",
      "23      1              Smith     Darren       \n",
      "24     37              Smith     Darren       \n",
      "25     14              Smith       Jack      1\n",
      "26      2              Smith      Tracy       \n",
      "27      9           Stibbons     Ponder      6\n",
      "28      6              Tracy     Burton       \n",
      "29     33         Tupperware   Hyacinth       \n",
      "30     29  Worthington-Smyth      Henry      2\n"
     ]
    }
   ],
   "source": [
    "conn = sqlite3.connect(r\"C:\\Users\\Ujval\\OneDrive\\Documents\\GitHub\\Springboard\\SQLFiles Tier 2\\sqlite_db_pythonsqlite.db\")\n",
    "cur = conn.cursor()\n",
    "cur.execute(\"\"\"SELECT memid, surname, firstname, recommendedby\n",
    "   FROM Members\n",
    "   Order BY surname, firstname;\"\"\")\n",
    "rows = cur.fetchall()\n",
    "conn.close()\n",
    "names = pd.DataFrame(rows)\n",
    "names.columns = ['memid', 'surname', 'firstname', 'rec_by']\n",
    "print(names)"
   ]
  },
  {
   "cell_type": "markdown",
   "id": "faac06f7",
   "metadata": {},
   "source": [
    "Setp#2: Make a new column with the appropriate formatting for each member's name."
   ]
  },
  {
   "cell_type": "code",
   "execution_count": 111,
   "id": "82d42618",
   "metadata": {},
   "outputs": [
    {
     "name": "stdout",
     "output_type": "stream",
     "text": [
      "   memid  surname firstname rec_by            full_name\n",
      "0     15    Bader  Florence      9  Florence Bader (15)\n",
      "1     12    Baker      Anne      9      Anne Baker (12)\n",
      "2     16    Baker   Timothy     13   Timothy Baker (16)\n",
      "3      8   Boothe       Tim      3       Tim Boothe (8)\n",
      "4      5  Butters    Gerald      1   Gerald Butters (5)\n"
     ]
    }
   ],
   "source": [
    "names['full_name'] = names['firstname'].str.cat(names['surname'], sep=' ')\n",
    "names['full_name'] = names['full_name'] + ' (' + names['memid'].astype(str) + ')'\n",
    "print(names.head())"
   ]
  },
  {
   "cell_type": "markdown",
   "id": "08a707cb",
   "metadata": {},
   "source": [
    "Step#3: Match the full name to the memid of the recommender."
   ]
  },
  {
   "cell_type": "code",
   "execution_count": 112,
   "id": "2015e86e",
   "metadata": {},
   "outputs": [
    {
     "name": "stdout",
     "output_type": "stream",
     "text": [
      "   memid  surname firstname  rec_by            full_name       recommended_by\n",
      "0     15    Bader  Florence     9.0  Florence Bader (15)  Ponder Stibbons (9)\n",
      "1     12    Baker      Anne     9.0      Anne Baker (12)  Ponder Stibbons (9)\n",
      "2     16    Baker   Timothy    13.0   Timothy Baker (16)  Jemima Farrell (13)\n",
      "3      8   Boothe       Tim     3.0       Tim Boothe (8)       Tim Rownam (3)\n",
      "4      5  Butters    Gerald     1.0   Gerald Butters (5)     Darren Smith (1)\n"
     ]
    }
   ],
   "source": [
    "names['rec_by'] = pd.to_numeric(names['rec_by'], errors='coerce')\n",
    "id_to_name = names.set_index('memid')['full_name'].to_dict()\n",
    "names['recommended_by'] = names['rec_by'].map(id_to_name)\n",
    "print(names.head())"
   ]
  },
  {
   "cell_type": "markdown",
   "id": "81a12400",
   "metadata": {},
   "source": [
    "Step#4: Clean up the unneccesary columns."
   ]
  },
  {
   "cell_type": "code",
   "execution_count": 114,
   "id": "4e8c85d3",
   "metadata": {},
   "outputs": [
    {
     "name": "stdout",
     "output_type": "stream",
     "text": [
      "    memid            surname  firstname          recommended_by\n",
      "0      15              Bader   Florence     Ponder Stibbons (9)\n",
      "1      12              Baker       Anne     Ponder Stibbons (9)\n",
      "2      16              Baker    Timothy     Jemima Farrell (13)\n",
      "3       8             Boothe        Tim          Tim Rownam (3)\n",
      "4       5            Butters     Gerald        Darren Smith (1)\n",
      "5      22             Coplin       Joan      Timothy Baker (16)\n",
      "6      36            Crumpet      Erica         Tracy Smith (2)\n",
      "7       7               Dare      Nancy     Janice Joplette (4)\n",
      "8      28            Farrell      David                        \n",
      "9      13            Farrell     Jemima                        \n",
      "10      0              GUEST      GUEST                        \n",
      "11     20            Genting    Matthew      Gerald Butters (5)\n",
      "12     35               Hunt       John  Millicent Purview (30)\n",
      "13     11              Jones      David     Janice Joplette (4)\n",
      "14     26              Jones    Douglas        David Jones (11)\n",
      "15      4           Joplette     Janice        Darren Smith (1)\n",
      "16     21          Mackenzie       Anna        Darren Smith (1)\n",
      "17     10               Owen    Charles        Darren Smith (1)\n",
      "18     17             Pinker      David     Jemima Farrell (13)\n",
      "19     30            Purview  Millicent         Tracy Smith (2)\n",
      "20      3             Rownam        Tim                        \n",
      "21     27             Rumney  Henrietta    Matthew Genting (20)\n",
      "22     24             Sarwin  Ramnaresh     Florence Bader (15)\n",
      "23      1              Smith     Darren                        \n",
      "24     37              Smith     Darren                        \n",
      "25     14              Smith       Jack        Darren Smith (1)\n",
      "26      2              Smith      Tracy                        \n",
      "27      9           Stibbons     Ponder        Burton Tracy (6)\n",
      "28      6              Tracy     Burton                        \n",
      "29     33         Tupperware   Hyacinth                        \n",
      "30     29  Worthington-Smyth      Henry         Tracy Smith (2)\n"
     ]
    }
   ],
   "source": [
    "names_clean = names.drop(columns=['rec_by', 'full_name'])\n",
    "names_clean['recommended_by'] = names_clean['recommended_by'].fillna('')\n",
    "print(names_clean)"
   ]
  },
  {
   "cell_type": "markdown",
   "id": "00057b69",
   "metadata": {},
   "source": [
    "The final solution to Q11 is a report ordered by the surname, firstname of all members, with their member ID and the name of the person who recommeded them."
   ]
  },
  {
   "cell_type": "markdown",
   "id": "0a0775be",
   "metadata": {},
   "source": [
    "Q12: Find the facilities with their usage by member, but not guests."
   ]
  },
  {
   "cell_type": "markdown",
   "id": "95bd5f7f",
   "metadata": {},
   "source": [
    "I am interpreting this as \"Find the total number of slots booked by members for each facility within the time period covered in this database\".  This can be found using the same queries used above in Q10 which is stored in variables df and prices."
   ]
  },
  {
   "cell_type": "code",
   "execution_count": 65,
   "id": "c0e0e57d",
   "metadata": {},
   "outputs": [
    {
     "name": "stdout",
     "output_type": "stream",
     "text": [
      "     facility_name  member_usage\n",
      "0   Massage Room 1        372164\n",
      "1   Tennis Court 1        294756\n",
      "2   Tennis Court 2        243432\n",
      "3     Squash Court         81510\n",
      "4   Massage Room 2          1458\n",
      "5     Table Tennis        305690\n",
      "6  Badminton Court        373584\n",
      "7    Snooker Table        362060\n",
      "8       Pool Table        670248\n"
     ]
    }
   ],
   "source": [
    "df = df[df['patron_type'] == 'Member']\n",
    "df['member_usage'] = df['booking_count']*df['total_slots']\n",
    "df_join = df.merge(prices, on=['facility_id'])\n",
    "df_short = df_join[['facility_name', 'member_usage']].copy()\n",
    "print(df_short)"
   ]
  },
  {
   "cell_type": "markdown",
   "id": "7dfe6080",
   "metadata": {},
   "source": [
    "If desired, we can sort by member usage and reorder the index so it stays chonological."
   ]
  },
  {
   "cell_type": "code",
   "execution_count": 66,
   "id": "c29d3d40",
   "metadata": {},
   "outputs": [
    {
     "name": "stdout",
     "output_type": "stream",
     "text": [
      "     facility_name  member_usage\n",
      "1       Pool Table        670248\n",
      "2  Badminton Court        373584\n",
      "3   Massage Room 1        372164\n",
      "4    Snooker Table        362060\n",
      "5     Table Tennis        305690\n",
      "6   Tennis Court 1        294756\n",
      "7   Tennis Court 2        243432\n",
      "8     Squash Court         81510\n",
      "9   Massage Room 2          1458\n"
     ]
    }
   ],
   "source": [
    "df_short.sort_values('member_usage', ascending=False, inplace=True)\n",
    "df_short.index = range(1, len(df_short) + 1)\n",
    "print(df_short)"
   ]
  },
  {
   "cell_type": "markdown",
   "id": "91a8f54c",
   "metadata": {},
   "source": [
    "The final result for Q11 gives a data frame with the facility name and corresponding usage by members (but not guests), sorted by descending usage."
   ]
  },
  {
   "cell_type": "markdown",
   "id": "3ad1cd55",
   "metadata": {},
   "source": [
    "Q13: Find the facilities usage by month, but not guests."
   ]
  },
  {
   "cell_type": "markdown",
   "id": "05fe8c41",
   "metadata": {},
   "source": [
    "Step#1: I am interpreting this as \"Find the total number of slots booked by members for each facility for each month within the time period covered in this database\".  This first step is to query the relevant information from the data base."
   ]
  },
  {
   "cell_type": "code",
   "execution_count": 136,
   "id": "a9228563",
   "metadata": {},
   "outputs": [
    {
     "name": "stdout",
     "output_type": "stream",
     "text": [
      "    facility_id month  total_slots patron_type\n",
      "0             0    07           23       Guest\n",
      "1             0    08           35       Guest\n",
      "2             0    09           42       Guest\n",
      "3             0    07           65      Member\n",
      "4             0    08          111      Member\n",
      "5             0    09          132      Member\n",
      "6             1    07           27       Guest\n",
      "7             1    08           40       Guest\n",
      "8             1    09           46       Guest\n",
      "9             1    07           41      Member\n",
      "10            1    08          109      Member\n",
      "11            1    09          126      Member\n",
      "12            2    07            5       Guest\n",
      "13            2    08           14       Guest\n",
      "14            2    09           20       Guest\n",
      "15            2    07           51      Member\n",
      "16            2    08          132      Member\n",
      "17            2    09          161      Member\n",
      "18            3    07            3       Guest\n",
      "19            3    08            4       Guest\n",
      "20            3    09           11       Guest\n",
      "21            3    07           48      Member\n",
      "22            3    08          143      Member\n",
      "23            3    09          194      Member\n",
      "24            4    07           46       Guest\n",
      "25            4    08           71       Guest\n",
      "26            4    09           91       Guest\n",
      "27            4    07           77      Member\n",
      "28            4    08          153      Member\n",
      "29            4    09          191      Member\n",
      "30            5    07            8       Guest\n",
      "31            5    08           31       Guest\n",
      "32            5    09           45       Guest\n",
      "33            5    07            4      Member\n",
      "34            5    08            9      Member\n",
      "35            5    09           14      Member\n",
      "36            6    07           52       Guest\n",
      "37            6    08           85       Guest\n",
      "38            6    09          108       Guest\n",
      "39            6    07           23      Member\n",
      "40            6    08           85      Member\n",
      "41            6    09           87      Member\n",
      "42            7    07            7       Guest\n",
      "43            7    08            5       Guest\n",
      "44            7    09           11       Guest\n",
      "45            7    07           68      Member\n",
      "46            7    08          154      Member\n",
      "47            7    09          199      Member\n",
      "48            8    07            7       Guest\n",
      "49            8    08           19       Guest\n",
      "50            8    09           27       Guest\n",
      "51            8    07          103      Member\n",
      "52            8    08          272      Member\n",
      "53            8    09          408      Member\n"
     ]
    }
   ],
   "source": [
    "conn = sqlite3.connect(r\"C:\\Users\\Ujval\\OneDrive\\Documents\\GitHub\\Springboard\\SQLFiles Tier 2\\sqlite_db_pythonsqlite.db\")\n",
    "cur = conn.cursor()\n",
    "cur.execute(\"\"\"SELECT facid, strftime('%m', starttime) AS month, COUNT(slots) AS total_slots,\n",
    "    CASE\n",
    "        WHEN memid = 0 THEN 'Guest'\n",
    "        WHEN memid <> 0 THEN 'Member'\n",
    "        END AS patron\n",
    "   FROM Bookings\n",
    "   GROUP BY facid, patron, month;\"\"\")\n",
    "rows = cur.fetchall()\n",
    "conn.close()\n",
    "months = pd.DataFrame(rows)\n",
    "months.columns = ['facility_id', 'month', 'total_slots', 'patron_type']\n",
    "print(months)"
   ]
  },
  {
   "cell_type": "markdown",
   "id": "27ade2c8",
   "metadata": {},
   "source": [
    "Step#2 Create new columns with the facility and month names."
   ]
  },
  {
   "cell_type": "code",
   "execution_count": null,
   "id": "45ca6e2a",
   "metadata": {},
   "outputs": [
    {
     "name": "stdout",
     "output_type": "stream",
     "text": [
      "   facility_id  month  total_slots patron_type   facility_name month_name\n",
      "0            0      7           23       Guest  Tennis Court 1       July\n",
      "1            0      8           35       Guest  Tennis Court 1     August\n",
      "2            0      9           42       Guest  Tennis Court 1  September\n",
      "3            0      7           65      Member  Tennis Court 1       July\n",
      "4            0      8          111      Member  Tennis Court 1     August\n"
     ]
    }
   ],
   "source": [
    "facid_to_name = prices.set_index('facility_id')['facility_name'].to_dict()\n",
    "months['facility_name'] = months['facility_id'].map(facid_to_name)\n",
    "month_dict = {1: 'Juanuary', 2:'February', 3: 'March', 4:'April', 5:'May', 6:'June', 7:'July', 8:'August', 9:'September', 10:'October', 11:'November', 12:'December'}\n",
    "months['month'] = pd.to_numeric(months['month'], errors='coerce')\n",
    "months['month_name'] = months['month'].map(month_dict)\n",
    "print(months.head())"
   ]
  },
  {
   "cell_type": "markdown",
   "id": "d50ab48b",
   "metadata": {},
   "source": [
    "Step#3: Remove all rows for Guest booksings and order the table by facilty name (1rst) and month number (2nd). Finally, remove unnecessary columns."
   ]
  },
  {
   "cell_type": "code",
   "execution_count": null,
   "id": "ca27b6a2",
   "metadata": {},
   "outputs": [
    {
     "name": "stdout",
     "output_type": "stream",
     "text": [
      "      facility_name month_name  total_slots\n",
      "15  Badminton Court       July           51\n",
      "16  Badminton Court     August          132\n",
      "17  Badminton Court  September          161\n",
      "27   Massage Room 1       July           77\n",
      "28   Massage Room 1     August          153\n",
      "29   Massage Room 1  September          191\n",
      "33   Massage Room 2       July            4\n",
      "34   Massage Room 2     August            9\n",
      "35   Massage Room 2  September           14\n",
      "51       Pool Table       July          103\n",
      "52       Pool Table     August          272\n",
      "53       Pool Table  September          408\n",
      "45    Snooker Table       July           68\n",
      "46    Snooker Table     August          154\n",
      "47    Snooker Table  September          199\n",
      "39     Squash Court       July           23\n",
      "40     Squash Court     August           85\n",
      "41     Squash Court  September           87\n",
      "21     Table Tennis       July           48\n",
      "22     Table Tennis     August          143\n",
      "23     Table Tennis  September          194\n",
      "3    Tennis Court 1       July           65\n",
      "4    Tennis Court 1     August          111\n",
      "5    Tennis Court 1  September          132\n",
      "9    Tennis Court 2       July           41\n",
      "10   Tennis Court 2     August          109\n",
      "11   Tennis Court 2  September          126\n"
     ]
    },
    {
     "name": "stderr",
     "output_type": "stream",
     "text": [
      "C:\\Users\\Ujval\\AppData\\Local\\Temp\\ipykernel_1496\\3390707986.py:2: SettingWithCopyWarning: \n",
      "A value is trying to be set on a copy of a slice from a DataFrame\n",
      "\n",
      "See the caveats in the documentation: https://pandas.pydata.org/pandas-docs/stable/user_guide/indexing.html#returning-a-view-versus-a-copy\n",
      "  months_member.sort_values(['facility_name', 'month'], ascending=True, inplace=True)\n"
     ]
    }
   ],
   "source": [
    "months_member = months[months['patron_type'] == 'Member']\n",
    "months_member.sort_values(['facility_name', 'month'], ascending=True, inplace=True)\n",
    "months_member = months_member[['facility_name', 'month_name', 'total_slots']]\n",
    "print(months_member)"
   ]
  },
  {
   "cell_type": "markdown",
   "id": "8027997a",
   "metadata": {},
   "source": [
    "The final solution to Q13 is a table with the facility name, month and total slots booked by members."
   ]
  }
 ],
 "metadata": {
  "kernelspec": {
   "display_name": "Springboard-7YnSNo3w",
   "language": "python",
   "name": "python3"
  },
  "language_info": {
   "codemirror_mode": {
    "name": "ipython",
    "version": 3
   },
   "file_extension": ".py",
   "mimetype": "text/x-python",
   "name": "python",
   "nbconvert_exporter": "python",
   "pygments_lexer": "ipython3",
   "version": "3.10.11"
  }
 },
 "nbformat": 4,
 "nbformat_minor": 5
}
